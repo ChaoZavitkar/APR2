{
 "cells": [
  {
   "cell_type": "code",
   "execution_count": 3,
   "metadata": {},
   "outputs": [
    {
     "name": "stdout",
     "output_type": "stream",
     "text": [
      "0 0\n",
      "10 20\n"
     ]
    }
   ],
   "source": [
    "class Bod:\n",
    "    x=0\n",
    "    y=0\n",
    "\n",
    "pocatek = Bod() # zavolá se implicitní obecný konstruktor\n",
    "\n",
    "print(pocatek.x, pocatek.y)\n",
    "\n",
    "pocatek.x = 10\n",
    "pocatek.y = 20\n",
    "\n",
    "print(pocatek.x, pocatek.y)\n",
    "    "
   ]
  },
  {
   "cell_type": "code",
   "execution_count": 4,
   "metadata": {},
   "outputs": [
    {
     "name": "stdout",
     "output_type": "stream",
     "text": [
      "0 0\n",
      "vzdalenost dvou bodu od pocatku je 5.830951894845301\n",
      "x: 5; y: 3\n"
     ]
    }
   ],
   "source": [
    "class Bod:\n",
    "    # dunder / magic metody -> začínají a končí dvěma podtržítky, jejich název a obecné chování již existují, my jen předefinujeme chování\n",
    "    # nejzákladnější __init__ konstruktor -> přiřadí objektu konkrétní hodnoty vlastnostem\n",
    "    # povinný parametr \"self\" -> \n",
    "    def __init__(self, x, y): # funkce uvniřt třídy => metoda pro manipulaci s objektem\n",
    "        self.x = x\n",
    "        self.y = y\n",
    "\n",
    "    # self je povinný, ale předává se automaticky. při volání metody ho nezdáváme\n",
    "    def vzdalenost_k_jinemu_bodu(self, bod):\n",
    "        dx = bod.x - self.x\n",
    "        dy = bod.y - self.y\n",
    "        vzdalenost = (dx**2 + dy**2)**0.5\n",
    "        return vzdalenost\n",
    "    \n",
    "    def __repr__(self) -> str:\n",
    "        return f\"x: {self.x}; y: {self.y}\"\n",
    "\n",
    "pocatek = Bod(0,0)\n",
    "print(pocatek.x, pocatek.y)\n",
    "bod = Bod(5,3)\n",
    "print(f\"vzdalenost dvou bodu od pocatku je {bod.vzdalenost_k_jinemu_bodu(pocatek)}\")\n",
    "print(bod)"
   ]
  },
  {
   "cell_type": "code",
   "execution_count": 5,
   "metadata": {},
   "outputs": [
    {
     "name": "stdout",
     "output_type": "stream",
     "text": [
      "[x: 50; y: 20, x: 80; y: 20, x: 80; y: 50, x: 50; y: 50]\n",
      "Délka: 30 \n",
      "Obsah: 900 \n",
      "Obvod: 120\n",
      "False False True\n"
     ]
    }
   ],
   "source": [
    "import math\n",
    "\n",
    "class Ctverec:\n",
    "    def __init__(self, a):\n",
    "        self.a = a\n",
    "\n",
    "    def obvod(self):\n",
    "        return 4 * self.a\n",
    "    \n",
    "    def obsah(self):\n",
    "        return self.a**2\n",
    "    \n",
    "    def urci_vyrcholy(self, pocatek): # => pocatek je bod se souřadnicemi levého dolního vrcholu\n",
    "        # -> vrací seznam bodů (všechny 4 vrcholy)\n",
    "        x, y = pocatek.x, pocatek.y\n",
    "        v1 = (x, y)\n",
    "        v2 = (x + self.a, y)\n",
    "        v3 = (x + self.a, y + self.a)\n",
    "        v4 = (x, y + self.a)\n",
    "        return [v1, v2, v3, v4]\n",
    "    \n",
    "    def urci_vrcholy_2(self, A):\n",
    "        vrcholy = []\n",
    "        vrcholy.append(Bod(A.x, A.y))\n",
    "        vrcholy.append(Bod(A.x + self.a, A.y))\n",
    "        vrcholy.append(Bod(A.x + self.a, A.y + self.a))\n",
    "        vrcholy.append(Bod(A.x, A.y + self.a))\n",
    "        return vrcholy\n",
    "    \n",
    "    def __repr__(self) -> str:\n",
    "        return f\"Délka: {self.a} \\nObsah: {self.obsah()} \\nObvod: {self.obvod()}\"\n",
    "    \n",
    "    def __eq__(self, other):\n",
    "        return math.isclose(self.obsah(), other.obsah())\n",
    "\n",
    "    def __lt__(self, other):\n",
    "        return self.obsah() < other.obsah()\n",
    "    \n",
    "    def __gt__(self, other):\n",
    "        return self.obsah() > other.obsah()\n",
    "    \n",
    "ctverec = Ctverec(30)\n",
    "ctverec2 = Ctverec(12)\n",
    "pocatek = Bod(50,20)\n",
    "# print(ctverec.a, ctverec.obvod(), ctverec.obsah(), ctverec.urci_vyrcholy(pocatek))\n",
    "print(ctverec.urci_vrcholy_2(pocatek))\n",
    "print(ctverec)\n",
    "print(ctverec == ctverec2, ctverec < ctverec2, ctverec > ctverec2)"
   ]
  },
  {
   "cell_type": "code",
   "execution_count": 8,
   "metadata": {},
   "outputs": [
    {
     "name": "stdout",
     "output_type": "stream",
     "text": [
      "Poloměr: 10 \n",
      "Střed: x: 10; y: 10 \n",
      "Obsah: 314.1592653589793 \n",
      "Obvod: 62.83185307179586\n",
      "True\n",
      "Délka: 17.72453850905516 \n",
      "Obsah: 314.1592653589794 \n",
      "Obvod: 70.89815403622065\n",
      "True\n"
     ]
    }
   ],
   "source": [
    "class Kruh:\n",
    "    def __init__(self, r, stred):\n",
    "        self.r = r\n",
    "        self.stred = stred\n",
    "    \n",
    "    def obvod(self):\n",
    "        return 2 * math.pi * self.r\n",
    "    \n",
    "    def obsah(self):\n",
    "        return math.pi * self.r**2\n",
    "    \n",
    "    def obsahuje_bod(self, bod) -> bool: # Bool true pokud je vzdálenost bodu menší než poloměr kružnice\n",
    "        dx = self.stred.x - bod.x\n",
    "        dy = self.stred.y - bod.y\n",
    "        if  (dx**2 + dy**2)**0.5 < self.r:\n",
    "            return True\n",
    "        else:\n",
    "            return False\n",
    "    \n",
    "    def ekvivalentni_ctverec(self) -> Ctverec:\n",
    "        delka = self.obsah()**0.5\n",
    "        ctverec = Ctverec(delka)\n",
    "        return ctverec\n",
    "    \n",
    "    def __repr__(self) -> str:\n",
    "        return f\"Poloměr: {self.r} \\nStřed: {self.stred} \\nObsah: {self.obsah()} \\nObvod: {self.obvod()}\"\n",
    "\n",
    "kruh = Kruh(10, Bod(10,10))\n",
    "print(kruh)\n",
    "print(kruh.obsahuje_bod(Bod(9,9)))\n",
    "print(kruh.ekvivalentni_ctverec())\n",
    "print(kruh == kruh.ekvivalentni_ctverec())"
   ]
  }
 ],
 "metadata": {
  "kernelspec": {
   "display_name": "Python 3",
   "language": "python",
   "name": "python3"
  },
  "language_info": {
   "codemirror_mode": {
    "name": "ipython",
    "version": 3
   },
   "file_extension": ".py",
   "mimetype": "text/x-python",
   "name": "python",
   "nbconvert_exporter": "python",
   "pygments_lexer": "ipython3",
   "version": "3.10.11"
  }
 },
 "nbformat": 4,
 "nbformat_minor": 2
}
