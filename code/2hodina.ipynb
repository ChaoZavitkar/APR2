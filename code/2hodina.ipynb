{
 "cells": [
  {
   "cell_type": "code",
   "execution_count": 207,
   "metadata": {},
   "outputs": [
    {
     "name": "stdout",
     "output_type": "stream",
     "text": [
      "Bojovnik: Alan, sila: 85, hp: 100, obratnost: 100\n"
     ]
    },
    {
     "ename": "TypeError",
     "evalue": "__repr__ returned non-string (type NoneType)",
     "output_type": "error",
     "traceback": [
      "\u001b[1;31m---------------------------------------------------------------------------\u001b[0m",
      "\u001b[1;31mTypeError\u001b[0m                                 Traceback (most recent call last)",
      "Cell \u001b[1;32mIn[207], line 49\u001b[0m\n\u001b[0;32m     46\u001b[0m     bojovnici\u001b[38;5;241m.\u001b[39mappend(Bojovnik(names[i], random\u001b[38;5;241m.\u001b[39mrandint(\u001b[38;5;241m0\u001b[39m, \u001b[38;5;241m100\u001b[39m), \u001b[38;5;241m100\u001b[39m, random\u001b[38;5;241m.\u001b[39mrandint(\u001b[38;5;241m0\u001b[39m, \u001b[38;5;241m100\u001b[39m)))\n\u001b[0;32m     48\u001b[0m bojovnici_sorted \u001b[38;5;241m=\u001b[39m \u001b[38;5;28msorted\u001b[39m(bojovnici, key\u001b[38;5;241m=\u001b[39m\u001b[38;5;28;01mlambda\u001b[39;00m bojovnik: bojovnik\u001b[38;5;241m.\u001b[39mobratnost, reverse\u001b[38;5;241m=\u001b[39m\u001b[38;5;28;01mTrue\u001b[39;00m)\n\u001b[1;32m---> 49\u001b[0m \u001b[38;5;28;43mprint\u001b[39;49m\u001b[43m(\u001b[49m\u001b[43mbojovnici_sorted\u001b[49m\u001b[43m)\u001b[49m\n\u001b[0;32m     51\u001b[0m \u001b[38;5;66;03m# for bojovnik in bojovnici:\u001b[39;00m\n\u001b[0;32m     52\u001b[0m \u001b[38;5;66;03m#     if bojovnik.hp > 0:\u001b[39;00m\n\u001b[0;32m     53\u001b[0m \u001b[38;5;66;03m#         for nepritel in bojovnici:\u001b[39;00m\n\u001b[1;32m   (...)\u001b[0m\n\u001b[0;32m     67\u001b[0m \u001b[38;5;66;03m#     if bojovnik.hp > 0:\u001b[39;00m\n\u001b[0;32m     68\u001b[0m \u001b[38;5;66;03m#         print(f\"{bojovnik.jmeno} ma {bojovnik.hp} HP\")\u001b[39;00m\n\u001b[0;32m     70\u001b[0m \u001b[38;5;28mprint\u001b[39m(\u001b[38;5;124m\"\u001b[39m\u001b[38;5;124mBěhem hry vyhral bojovnik: \u001b[39m\u001b[38;5;124m\"\u001b[39m, [bojovnik\u001b[38;5;241m.\u001b[39mjmeno \u001b[38;5;28;01mfor\u001b[39;00m bojovnik \u001b[38;5;129;01min\u001b[39;00m bojovnici \u001b[38;5;28;01mif\u001b[39;00m bojovnik\u001b[38;5;241m.\u001b[39mhp \u001b[38;5;241m>\u001b[39m \u001b[38;5;241m0\u001b[39m][\u001b[38;5;241m0\u001b[39m])\n",
      "\u001b[1;31mTypeError\u001b[0m: __repr__ returned non-string (type NoneType)"
     ]
    }
   ],
   "source": [
    "import random\n",
    "names = [\"Aaran\", \"Aaren\", \"Aarez\", \"Aarman\", \"Aaron\", \"Aaron-James\", \"Aarron\", \"Aaryan\", \"Aaryn\", \"Aayan\", \"Aazaan\", \"Abaan\", \"Abbas\", \"Abdallah\", \"Abdalroof\", \"Abdihakim\", \"Abdirahman\", \"Abdisalam\", \"Abdul\", \"Abdul-Aziz\", \"Abdulbasir\", \"Abdulkadir\", \"Abdulkarem\", \"Abdulkhader\", \"Abdullah\", \"Abdul-Majeed\", \"Abdulmalik\", \"Abdul-Rehman\", \"Abdur\", \"Abdurraheem\", \"Abdur-Rahman\", \"Abdur-Rehmaan\", \"Abel\", \"Abhinav\", \"Abhisumant\", \"Abid\", \"Abir\", \"Abraham\", \"Abu\", \"Abubakar\", \"Ace\", \"Adain\", \"Adam\", \"Adam-James\", \"Addison\", \"Addisson\", \"Adegbola\", \"Adegbolahan\", \"Aden\", \"Adenn\", \"Adie\", \"Adil\", \"Aditya\", \"Adnan\", \"Adrian\", \"Adrien\", \"Aedan\", \"Aedin\", \"Aedyn\", \"Aeron\", \"Afonso\", \"Ahmad\", \"Ahmed\", \"Ahmed-Aziz\", \"Ahoua\", \"Ahtasham\", \"Aiadan\", \"Aidan\", \"Aiden\", \"Aiden-Jack\", \"Aiden-Vee\", \"Aidian\", \"Aidy\", \"Ailin\", \"Aiman\", \"Ainsley\", \"Ainslie\", \"Airen\", \"Airidas\", \"Airlie\", \"AJ\", \"Ajay\", \"A-Jay\", \"Ajayraj\", \"Akan\", \"Akram\", \"Al\", \"Ala\", \"Alan\", \"Alanas\", \"Alasdair\", \"Alastair\", \"Alber\", \"Albert\", \"Albie\", \"Aldred\", \"Alec\", \"Aled\", \"Aleem\", \"Aleksandar\", \"Aleksander\", \"Aleksandr\", \"Aleksandrs\", \"Alekzander\", \"Alessandro\", \"Alessio\", \"Alex\", \"Alexander\", \"Alexei\", \"Alexx\", \"Alexzander\", \"Alf\", \"Alfee\", \"Alfie\", \"Alfred\", \"Alfy\", \"Alhaji\", \"Al-Hassan\", \"Ali\", \"Aliekber\", \"Alieu\", \"Alihaider\", \"Alisdair\", \"Alishan\", \"Alistair\", \"Alistar\", \"Alister\", \"Aliyaan\", \"Allan\", \"Allan-Laiton\", \"Allen\", \"Allesandro\", \"Allister\", \"Ally\", \"Alphonse\", \"Altyiab\", \"Alum\", \"Alvern\", \"Alvin\", \"Alyas\", \"Amaan\", \"Aman\", \"Amani\", \"Ambanimoh\", \"Ameer\", \"Amgad\", \"Ami\", \"Amin\", \"Amir\", \"Ammaar\", \"Ammar\", \"Ammer\", \"Amolpreet\", \"Amos\", \"Amrinder\", \"Amrit\", \"Amro\", \"Anay\", \"Andrea\", \"Andreas\", \"Andrei\", \"Andrejs\", \"Andrew\", \"Andy\", \"Anees\", \"Anesu\", \"Angel\", \"Angelo\", \"Angus\", \"Anir\", \"Anis\", \"Anish\", \"Anmolpreet\", \"Annan\", \"Anndra\", \"Anselm\", \"Anthony\", \"Anthony-John\", \"Antoine\", \"Anton\", \"Antoni\", \"Antonio\", \"Antony\", \"Antonyo\", \"Anubhav\", \"Aodhan\", \"Aon\", \"Aonghus\", \"Apisai\", \"Arafat\", \"Aran\", \"Arandeep\", \"Arann\", \"Aray\", \"Arayan\", \"Archibald\", \"Archie\", \"Arda\", \"Ardal\", \"Ardeshir\", \"Areeb\", \"Areez\", \"Aref\", \"Arfin\", \"Argyle\", \"Argyll\", \"Ari\", \"Aria\", \"Arian\", \"Arihant\", \"Aristomenis\", \"Aristotelis\", \"Arjuna\", \"Arlo\", \"Armaan\", \"Arman\", \"Armen\", \"Arnab\", \"Arnav\", \"Arnold\", \"Aron\", \"Aronas\", \"Arran\", \"Arrham\", \"Arron\", \"Arryn\", \"Arsalan\", \"Artem\", \"Arthur\", \"Artur\", \"Arturo\", \"Arun\", \"Arunas\", \"Arved\", \"Arya\", \"Aryan\", \"Aryankhan\", \"Aryian\", \"Aryn\", \"Asa\", \"Asfhan\", \"Ash\", \"Ashlee-jay\", \"Ashley\", \"Ashton\", \"Ashton-Lloyd\", \"Ashtyn\", \"Ashwin\", \"Asif\", \"Asim\", \"Aslam\", \"Asrar\", \"Ata\", \"Atal\", \"Atapattu\", \"Ateeq\", \"Athol\", \"Athon\", \"Athos-Carlos\", \"Atli\", \"Atom\", \"Attila\", \"Aulay\", \"Aun\", \"Austen\", \"Austin\", \"Avani\", \"Averon\", \"Avi\", \"Avinash\", \"Avraham\", \"Awais\", \"Awwal\", \"Axel\", \"Ayaan\", \"Ayan\", \"Aydan\", \"Ayden\", \"Aydin\", \"Aydon\", \"Ayman\", \"Ayomide\", \"Ayren\", \"Ayrton\", \"Aytug\", \"Ayub\", \"Ayyub\", \"Azaan\", \"Azedine\", \"Azeem\", \"Azim\", \"Aziz\", \"Azlan\", \"Azzam\", \"Azzedine\", \"Babatunmise\", \"Babur\", \"Bader\", \"Badr\", \"Badsha\"]\n",
    "\n",
    "class Bojovnik:\n",
    "    def __init__(self, jmeno, sila, hp, obratnost):\n",
    "        self.jmeno = jmeno\n",
    "        self.sila = sila # 0-100\n",
    "        self.hp = hp # 0-100\n",
    "        self.obratnost = obratnost # 0-100\n",
    "\n",
    "    def uder_nekoho(self, nepritel):\n",
    "        sila = random.randint(0, self.sila)\n",
    "        if nepritel.uhni_rane(sila, self):\n",
    "            self.promluv(3, nepritel)\n",
    "        else:\n",
    "            self.promluv(2, nepritel)\n",
    "        \n",
    "\n",
    "    def uhni_rane(self, nepritel_sila, nepritel):\n",
    "        obratnost = random.randint(0, self.obratnost)\n",
    "        if obratnost > nepritel_sila:\n",
    "            self.promluv(1, nepritel)\n",
    "            return 1\n",
    "        else:\n",
    "            self.hp = self.hp - nepritel_sila\n",
    "            self.promluv(0, nepritel)\n",
    "            return 0\n",
    "\n",
    "    def promluv(self, uhnul_uderil, nepritel):\n",
    "        if uhnul_uderil == 3:\n",
    "            print(f\"{self.jmeno}({self.hp}) neuderil {nepritel.jmeno}({nepritel.hp})\")\n",
    "        elif uhnul_uderil == 2:\n",
    "            print(f\"{self.jmeno}({self.hp}) uderil {nepritel.jmeno}({nepritel.hp})\")\n",
    "        elif uhnul_uderil == 1:\n",
    "            print(f\"{self.jmeno}({self.hp}) uhnul {nepritel.jmeno}({nepritel.hp})\")\n",
    "        else:\n",
    "            print(f\"{self.jmeno}({self.hp}) neuhnul {nepritel.jmeno}({nepritel.hp})\")\n",
    "        pass\n",
    "\n",
    "    def __repr__(self) -> str:\n",
    "        print(f\"Bojovnik: {self.jmeno}, sila: {self.sila}, hp: {self.hp}, obratnost: {self.obratnost}\")\n",
    "\n",
    "bojovnici = []\n",
    "\n",
    "for i in range(1, len(names)-1):\n",
    "    bojovnici.append(Bojovnik(names[i], random.randint(0, 100), 100, random.randint(0, 100)))\n",
    "\n",
    "bojovnici_sorted = sorted(bojovnici, key=lambda bojovnik: bojovnik.obratnost, reverse=True)\n",
    "print(bojovnici_sorted)\n",
    "\n",
    "# for bojovnik in bojovnici:\n",
    "#     if bojovnik.hp > 0:\n",
    "#         for nepritel in bojovnici:\n",
    "#             if nepritel != bojovnik and nepritel.hp > 0:\n",
    "#                 bojovnik.uder_nekoho(nepritel)\n",
    "    \n",
    "# while len([bojovnik for bojovnik in bojovnici if bojovnik.hp > 0]) > 1:\n",
    "#     for bojovnik in bojovnici:\n",
    "#         if bojovnik.hp > 0:\n",
    "#             for nepritel in bojovnici:\n",
    "#                 if nepritel != bojovnik and nepritel.hp > 0:\n",
    "#                     bojovnik.uder_nekoho(nepritel)\n",
    "\n",
    "\n",
    "\n",
    "# for bojovnik in bojovnici:\n",
    "#     if bojovnik.hp > 0:\n",
    "#         print(f\"{bojovnik.jmeno} ma {bojovnik.hp} HP\")\n",
    "\n",
    "print(\"Během hry vyhral bojovnik: \", [bojovnik.jmeno for bojovnik in bojovnici if bojovnik.hp > 0][0])"
   ]
  }
 ],
 "metadata": {
  "kernelspec": {
   "display_name": "Python 3",
   "language": "python",
   "name": "python3"
  },
  "language_info": {
   "codemirror_mode": {
    "name": "ipython",
    "version": 3
   },
   "file_extension": ".py",
   "mimetype": "text/x-python",
   "name": "python",
   "nbconvert_exporter": "python",
   "pygments_lexer": "ipython3",
   "version": "3.10.11"
  }
 },
 "nbformat": 4,
 "nbformat_minor": 2
}
