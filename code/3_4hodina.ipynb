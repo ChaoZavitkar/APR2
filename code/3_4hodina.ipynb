{
 "cells": [
  {
   "cell_type": "markdown",
   "metadata": {},
   "source": [
    "## Hanojské věže\n",
    "trojice zásobníků\n",
    "- umožňuje odebírat poslední vložený prvek\n",
    "\n",
    "### Zásobníky\n",
    "- soustava vzájemně spojených uzlů\n",
    "- začínají hlavičkou -> první uzel v pořadí\n",
    "- dvě základní operace -> push a pull"
   ]
  },
  {
   "cell_type": "code",
   "execution_count": 1,
   "metadata": {},
   "outputs": [],
   "source": [
    "class Uzel:\n",
    "    # hodnota\n",
    "    # je_hlavickou -> bool hodnota\n",
    "    # odkaz na další prvek\n",
    "    def __init__(self, hodnota, je_hlavickou=True):\n",
    "        self.odkaz_na_souseda = None\n",
    "        self.hodnota = hodnota\n",
    "        self.je_hlavickou = je_hlavickou\n",
    "\n",
    "class Zasobnik:\n",
    "    # vlastnosti:\n",
    "        # hlavicka\n",
    "        # pocet hodnot\n",
    "    def __init__(self):\n",
    "        self.pocet_hodnot = 0\n",
    "        self.hlavicka = None\n",
    "    \n",
    "    # metody:\n",
    "        # nabij - přidej hodnotu jako hlavičku\n",
    "        # vybij - odeber hlavičku a vrať hodnotu\n",
    "    def nabij(self, hodnota):\n",
    "        \"\"\"pro hodnotu vytvoř nový uzel\n",
    "        aktuální hlavičku zásobníku nastav jako je_hlavicka=False\n",
    "        aktuální hlavičku zásobníku nastav jako jako další prvek nového uzlu\n",
    "        zvětši počet o 1\"\"\"\n",
    "        uzel = Uzel(hodnota)\n",
    "        if self.hlavicka is None:\n",
    "            self.hlavicka = uzel\n",
    "            self.pocet_hodnot += 1\n",
    "        else:\n",
    "            self.hlavicka.je_hlavickou = False\n",
    "            uzel.odkaz_na_souseda = self.hlavicka\n",
    "            self.hlavicka = uzel\n",
    "            self.pocet_hodnot += 1\n",
    "        \n",
    "    def vybij(self):\n",
    "        \"\"\"do nové proměnné hodnota, ulož hodnotu z aktuální hlavičky zásobníku\n",
    "        aktuální hlavičku zásobníku přepiš jejím následujícím prvkem\n",
    "        nově nastavené hlavičce změň vlastnost je_hlavickou na True\n",
    "        zmenši počet o 1\"\"\"\n",
    "        if self.hlavicka is not None:\n",
    "            self.pocet_hodnot -= 1\n",
    "            hodnota = self.hlavicka.hodnota\n",
    "            self.hlavicka = self.hlavicka.odkaz_na_souseda\n",
    "            self.hlavicka.je_hlavickou = True\n",
    "        return hodnota\n",
    "\n",
    "    def __repr__(self) -> str:\n",
    "        text = \"\" #výsledný text\n",
    "        uzel = self.hlavicka\n",
    "\n",
    "        # procházet přes zbylé hodnoty zásobníku\n",
    "        # vezmeme následující prvek a uložíme do uzlu\n",
    "        # jeho hodnotu přidáme do proměnné text\n",
    "        while uzel is not None:\n",
    "            text += str(uzel.hodnota) + \" \"\n",
    "            uzel = uzel.odkaz_na_souseda\n",
    "        return text\n",
    "    \n",
    "    def __iter__(self):\n",
    "        uzel = self.hlavicka\n",
    "        while uzel is not None:\n",
    "            yield uzel.hodnota\n",
    "            uzel = uzel.odkaz_na_souseda\n",
    "\n",
    "    def __next__(self):\n",
    "        return next(self.__iter__())\n",
    "    \n",
    "    # zeptat se na yield příští týden"
   ]
  },
  {
   "cell_type": "code",
   "execution_count": 2,
   "metadata": {},
   "outputs": [
    {
     "name": "stdout",
     "output_type": "stream",
     "text": [
      "15 10 5 \n",
      "10 5 \n",
      "10\n",
      "5\n"
     ]
    }
   ],
   "source": [
    "zasobnik1 = Zasobnik()\n",
    "zasobnik1.nabij(5)\n",
    "zasobnik1.nabij(10)\n",
    "zasobnik1.nabij(15)\n",
    "\n",
    "print(zasobnik1)\n",
    "\n",
    "zasobnik1.vybij()\n",
    "print(zasobnik1)\n",
    "\n",
    "for naboj in zasobnik1:\n",
    "    print(naboj)"
   ]
  },
  {
   "cell_type": "markdown",
   "metadata": {},
   "source": [
    "### Hanojské věže\n",
    "\n",
    "- vlastnosti:\n",
    "    - parametr: počet kotoučů\n",
    "    - tři zásobníky: levý, pravý, prostřední\n",
    "    - během inicializace bude levý zásobník naplněn hodnotami 1-počet koutoučů a nejmenší hodnota je navrchu\n",
    "\n",
    "- metody:\n",
    "    - presun_kotouc_z_na(zasobnik1, zasobnik2) -> parametry budou text (např. \"levý\", \"pravý\"), nutné ošetřit prázdný zásobník (vyhodit vyjímku)\n",
    "        - kontrola pravidel -> vždy je možno přesunout menší kotouč na menší\n",
    "    - vizualizuj_veze (vypíše tři zásobníky pod sebe pro kontrolu)\n",
    "    - spust_hlavolam -> cyklus interakci s uživatelem - dokud není vyřešen hlavolam (dokud pravý zádobník neobsahuje všechny kotouče)"
   ]
  },
  {
   "cell_type": "code",
   "execution_count": 3,
   "metadata": {},
   "outputs": [],
   "source": [
    "class Hanosjke_veze:\n",
    "    def __init__(self, pocet_kotoucu):\n",
    "        self.pocet_kotoucu = pocet_kotoucu\n",
    "        self.leva_vez = Zasobnik()\n",
    "        for i in range(pocet_kotoucu, 0, -1):\n",
    "            self.leva_vez.nabij(i)\n",
    "        self.prosted_vez = Zasobnik()\n",
    "        self.prava_vez = Zasobnik()\n",
    "\n",
    "    def presun_kotouc(self, zasobnik1, zasobnik2):\n",
    "        if zasobnik2.hlavicka is None or zasobnik1.hlavicka.hodnota < zasobnik2.hlavicka.hodnota:\n",
    "            zasobnik2.nabij(zasobnik1.vybij())\n",
    "            print(\"Přesunuto\")\n",
    "        else:\n",
    "            print(\"Nelze přesunout\")\n",
    "    \n",
    "    def vizualizuj_veze(self):\n",
    "        return f\"{self.leva_vez} - {self.prosted_vez} - {self.prava_vez}\"\n",
    "    \n",
    "    def je_vyreseno(self):\n",
    "        if self.prava_vez.pocet_hodnot != self.pocet_kotoucu:\n",
    "            return False\n",
    "        return True\n",
    "\n",
    "    def spust_hlavolam(self):\n",
    "        while True:\n",
    "            odkud = input(\"(levý, pravý, střední)\")\n",
    "            kam = input(\"(levý, pravý, střední)\")\n",
    "            self.presun_kotouc(odkud, kam)\n",
    "            print(\"\")\n"
   ]
  },
  {
   "cell_type": "code",
   "execution_count": 4,
   "metadata": {},
   "outputs": [
    {
     "ename": "KeyboardInterrupt",
     "evalue": "Interrupted by user",
     "output_type": "error",
     "traceback": [
      "\u001b[1;31m---------------------------------------------------------------------------\u001b[0m",
      "\u001b[1;31mKeyboardInterrupt\u001b[0m                         Traceback (most recent call last)",
      "Cell \u001b[1;32mIn[4], line 8\u001b[0m\n\u001b[0;32m      1\u001b[0m veze \u001b[38;5;241m=\u001b[39m Hanosjke_veze(\u001b[38;5;241m8\u001b[39m)\n\u001b[0;32m      3\u001b[0m \u001b[38;5;66;03m# veze.presun_kotouc(veze.leva_vez, veze.prava_vez)\u001b[39;00m\n\u001b[0;32m      4\u001b[0m \u001b[38;5;66;03m# veze.presun_kotouc(veze.leva_vez, veze.prosted_vez)\u001b[39;00m\n\u001b[0;32m      5\u001b[0m \u001b[38;5;66;03m# veze.presun_kotouc(veze.leva_vez, veze.prosted_vez)\u001b[39;00m\n\u001b[0;32m      6\u001b[0m \u001b[38;5;66;03m# veze.vizualizuj_veze()\u001b[39;00m\n\u001b[1;32m----> 8\u001b[0m \u001b[43mveze\u001b[49m\u001b[38;5;241;43m.\u001b[39;49m\u001b[43mspust_hlavolam\u001b[49m\u001b[43m(\u001b[49m\u001b[43m)\u001b[49m\n",
      "Cell \u001b[1;32mIn[3], line 28\u001b[0m, in \u001b[0;36mHanosjke_veze.spust_hlavolam\u001b[1;34m(self)\u001b[0m\n\u001b[0;32m     26\u001b[0m \u001b[38;5;28;01mwhile\u001b[39;00m \u001b[38;5;28;01mTrue\u001b[39;00m:\n\u001b[0;32m     27\u001b[0m     odkud \u001b[38;5;241m=\u001b[39m \u001b[38;5;28minput\u001b[39m(\u001b[38;5;124m\"\u001b[39m\u001b[38;5;124m(levý, pravý, střední)\u001b[39m\u001b[38;5;124m\"\u001b[39m)\n\u001b[1;32m---> 28\u001b[0m     kam \u001b[38;5;241m=\u001b[39m \u001b[38;5;28;43minput\u001b[39;49m\u001b[43m(\u001b[49m\u001b[38;5;124;43m\"\u001b[39;49m\u001b[38;5;124;43m(levý, pravý, střední)\u001b[39;49m\u001b[38;5;124;43m\"\u001b[39;49m\u001b[43m)\u001b[49m\n\u001b[0;32m     29\u001b[0m     \u001b[38;5;28mself\u001b[39m\u001b[38;5;241m.\u001b[39mpresun_kotouc(odkud, kam)\n\u001b[0;32m     30\u001b[0m     \u001b[38;5;28mprint\u001b[39m(\u001b[38;5;124m\"\u001b[39m\u001b[38;5;124m\"\u001b[39m)\n",
      "File \u001b[1;32m~\\AppData\\Local\\Packages\\PythonSoftwareFoundation.Python.3.10_qbz5n2kfra8p0\\LocalCache\\local-packages\\Python310\\site-packages\\ipykernel\\kernelbase.py:1251\u001b[0m, in \u001b[0;36mKernel.raw_input\u001b[1;34m(self, prompt)\u001b[0m\n\u001b[0;32m   1249\u001b[0m     msg \u001b[38;5;241m=\u001b[39m \u001b[38;5;124m\"\u001b[39m\u001b[38;5;124mraw_input was called, but this frontend does not support input requests.\u001b[39m\u001b[38;5;124m\"\u001b[39m\n\u001b[0;32m   1250\u001b[0m     \u001b[38;5;28;01mraise\u001b[39;00m StdinNotImplementedError(msg)\n\u001b[1;32m-> 1251\u001b[0m \u001b[38;5;28;01mreturn\u001b[39;00m \u001b[38;5;28;43mself\u001b[39;49m\u001b[38;5;241;43m.\u001b[39;49m\u001b[43m_input_request\u001b[49m\u001b[43m(\u001b[49m\n\u001b[0;32m   1252\u001b[0m \u001b[43m    \u001b[49m\u001b[38;5;28;43mstr\u001b[39;49m\u001b[43m(\u001b[49m\u001b[43mprompt\u001b[49m\u001b[43m)\u001b[49m\u001b[43m,\u001b[49m\n\u001b[0;32m   1253\u001b[0m \u001b[43m    \u001b[49m\u001b[38;5;28;43mself\u001b[39;49m\u001b[38;5;241;43m.\u001b[39;49m\u001b[43m_parent_ident\u001b[49m\u001b[43m[\u001b[49m\u001b[38;5;124;43m\"\u001b[39;49m\u001b[38;5;124;43mshell\u001b[39;49m\u001b[38;5;124;43m\"\u001b[39;49m\u001b[43m]\u001b[49m\u001b[43m,\u001b[49m\n\u001b[0;32m   1254\u001b[0m \u001b[43m    \u001b[49m\u001b[38;5;28;43mself\u001b[39;49m\u001b[38;5;241;43m.\u001b[39;49m\u001b[43mget_parent\u001b[49m\u001b[43m(\u001b[49m\u001b[38;5;124;43m\"\u001b[39;49m\u001b[38;5;124;43mshell\u001b[39;49m\u001b[38;5;124;43m\"\u001b[39;49m\u001b[43m)\u001b[49m\u001b[43m,\u001b[49m\n\u001b[0;32m   1255\u001b[0m \u001b[43m    \u001b[49m\u001b[43mpassword\u001b[49m\u001b[38;5;241;43m=\u001b[39;49m\u001b[38;5;28;43;01mFalse\u001b[39;49;00m\u001b[43m,\u001b[49m\n\u001b[0;32m   1256\u001b[0m \u001b[43m\u001b[49m\u001b[43m)\u001b[49m\n",
      "File \u001b[1;32m~\\AppData\\Local\\Packages\\PythonSoftwareFoundation.Python.3.10_qbz5n2kfra8p0\\LocalCache\\local-packages\\Python310\\site-packages\\ipykernel\\kernelbase.py:1295\u001b[0m, in \u001b[0;36mKernel._input_request\u001b[1;34m(self, prompt, ident, parent, password)\u001b[0m\n\u001b[0;32m   1292\u001b[0m \u001b[38;5;28;01mexcept\u001b[39;00m \u001b[38;5;167;01mKeyboardInterrupt\u001b[39;00m:\n\u001b[0;32m   1293\u001b[0m     \u001b[38;5;66;03m# re-raise KeyboardInterrupt, to truncate traceback\u001b[39;00m\n\u001b[0;32m   1294\u001b[0m     msg \u001b[38;5;241m=\u001b[39m \u001b[38;5;124m\"\u001b[39m\u001b[38;5;124mInterrupted by user\u001b[39m\u001b[38;5;124m\"\u001b[39m\n\u001b[1;32m-> 1295\u001b[0m     \u001b[38;5;28;01mraise\u001b[39;00m \u001b[38;5;167;01mKeyboardInterrupt\u001b[39;00m(msg) \u001b[38;5;28;01mfrom\u001b[39;00m \u001b[38;5;28;01mNone\u001b[39;00m\n\u001b[0;32m   1296\u001b[0m \u001b[38;5;28;01mexcept\u001b[39;00m \u001b[38;5;167;01mException\u001b[39;00m:\n\u001b[0;32m   1297\u001b[0m     \u001b[38;5;28mself\u001b[39m\u001b[38;5;241m.\u001b[39mlog\u001b[38;5;241m.\u001b[39mwarning(\u001b[38;5;124m\"\u001b[39m\u001b[38;5;124mInvalid Message:\u001b[39m\u001b[38;5;124m\"\u001b[39m, exc_info\u001b[38;5;241m=\u001b[39m\u001b[38;5;28;01mTrue\u001b[39;00m)\n",
      "\u001b[1;31mKeyboardInterrupt\u001b[0m: Interrupted by user"
     ]
    }
   ],
   "source": [
    "veze = Hanosjke_veze(8)\n",
    "\n",
    "# veze.presun_kotouc(veze.leva_vez, veze.prava_vez)\n",
    "# veze.presun_kotouc(veze.leva_vez, veze.prosted_vez)\n",
    "# veze.presun_kotouc(veze.leva_vez, veze.prosted_vez)\n",
    "# veze.vizualizuj_veze()\n",
    "\n",
    "veze.spust_hlavolam()"
   ]
  }
 ],
 "metadata": {
  "kernelspec": {
   "display_name": "Python 3",
   "language": "python",
   "name": "python3"
  },
  "language_info": {
   "codemirror_mode": {
    "name": "ipython",
    "version": 3
   },
   "file_extension": ".py",
   "mimetype": "text/x-python",
   "name": "python",
   "nbconvert_exporter": "python",
   "pygments_lexer": "ipython3",
   "version": "3.10.11"
  }
 },
 "nbformat": 4,
 "nbformat_minor": 2
}
