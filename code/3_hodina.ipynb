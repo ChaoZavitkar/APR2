{
 "cells": [
  {
   "cell_type": "markdown",
   "metadata": {},
   "source": [
    "## Hanojské věže\n",
    "trojice zásobníků\n",
    "- umožňuje odebírat poslední vložený prvek\n",
    "\n",
    "### Zásobníky\n",
    "- soustava vzájemně spojených uzlů\n",
    "- začínají hlavičkou -> první uzel v pořadí\n",
    "- dvě základní operace -> push a pull"
   ]
  },
  {
   "cell_type": "code",
   "execution_count": null,
   "metadata": {},
   "outputs": [],
   "source": [
    "class Uzel:\n",
    "    # hodnota\n",
    "    # je_hlavickou -> bool hodnota\n",
    "    # odkaz na další prvek\n",
    "    def __init__(self, hodnota, je_hlavickou=True):\n",
    "        self.odkaz_na_souseda = None\n",
    "        self.hodnota = hodnota\n",
    "        self.je_hlavickou = je_hlavickou\n",
    "\n",
    "class Zasobnik:\n",
    "    # vlastnosti:\n",
    "        # hlavicka\n",
    "        # pocet hodnot\n",
    "    def __init__(self):\n",
    "        self.pocet_hodnot = 0\n",
    "        self.hlavicka = None\n",
    "    \n",
    "    # metody:\n",
    "        # nabij - přidej hodnotu jako hlavičku\n",
    "        # vybij - odeber hlavičku a vrať hodnotu\n",
    "    def nabij(self, hodnota):\n",
    "        \"\"\"pro hodnotu vytvoř nový uzel\n",
    "        aktuální hlavičku zásobníku nastav jako je_hlavicka=False\n",
    "        aktuální hlavičku zásobníku nastav jako jako další prvek nového uzlu\n",
    "        zvětši počet o 1\"\"\"\n",
    "        uzel = Uzel(hodnota)\n",
    "        if self.hlavicka is None:\n",
    "            self.hlavicka = uzel\n",
    "            self.pocet_hodnot += 1\n",
    "        else:\n",
    "            self.hlavicka.je_hlavickou = False\n",
    "            uzel.odkaz_na_souseda = self.hlavicka\n",
    "            self.hlavicka = uzel\n",
    "            self.pocet_hodnot += 1\n",
    "        \n",
    "    def vybij(self):\n",
    "        \"\"\"do nové proměnné hodnota, ulož hodnotu z aktuální hlavičky zásobníku\n",
    "        aktuální hlavičku zásobníku přepiš jejím následujícím prvkem\n",
    "        nově nastavené hlavičce změň vlastnost je_hlavickou na True\n",
    "        zmenši počet o 1\"\"\"\n",
    "        ..."
   ]
  }
 ],
 "metadata": {
  "language_info": {
   "name": "python"
  }
 },
 "nbformat": 4,
 "nbformat_minor": 2
}
