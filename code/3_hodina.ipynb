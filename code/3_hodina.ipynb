{
 "cells": [
  {
   "cell_type": "markdown",
   "metadata": {},
   "source": [
    "## Hanojské věže\n",
    "trojice zásobníků\n",
    "- umožňuje odebírat poslední vložený prvek\n",
    "\n",
    "### Zásobníky\n",
    "- soustava vzájemně spojených uzlů\n",
    "- začínají hlavičkou -> první uzel v pořadí\n",
    "- dvě základní operace -> push a pull"
   ]
  },
  {
   "cell_type": "code",
   "execution_count": 15,
   "metadata": {},
   "outputs": [],
   "source": [
    "class Uzel:\n",
    "    # hodnota\n",
    "    # je_hlavickou -> bool hodnota\n",
    "    # odkaz na další prvek\n",
    "    def __init__(self, hodnota, je_hlavickou=True):\n",
    "        self.odkaz_na_souseda = None\n",
    "        self.hodnota = hodnota\n",
    "        self.je_hlavickou = je_hlavickou\n",
    "\n",
    "class Zasobnik:\n",
    "    # vlastnosti:\n",
    "        # hlavicka\n",
    "        # pocet hodnot\n",
    "    def __init__(self):\n",
    "        self.pocet_hodnot = 0\n",
    "        self.hlavicka = None\n",
    "    \n",
    "    # metody:\n",
    "        # nabij - přidej hodnotu jako hlavičku\n",
    "        # vybij - odeber hlavičku a vrať hodnotu\n",
    "    def nabij(self, hodnota):\n",
    "        \"\"\"pro hodnotu vytvoř nový uzel\n",
    "        aktuální hlavičku zásobníku nastav jako je_hlavicka=False\n",
    "        aktuální hlavičku zásobníku nastav jako jako další prvek nového uzlu\n",
    "        zvětši počet o 1\"\"\"\n",
    "        uzel = Uzel(hodnota)\n",
    "        if self.hlavicka is None:\n",
    "            self.hlavicka = uzel\n",
    "            self.pocet_hodnot += 1\n",
    "        else:\n",
    "            self.hlavicka.je_hlavickou = False\n",
    "            uzel.odkaz_na_souseda = self.hlavicka\n",
    "            self.hlavicka = uzel\n",
    "            self.pocet_hodnot += 1\n",
    "        \n",
    "    def vybij(self):\n",
    "        \"\"\"do nové proměnné hodnota, ulož hodnotu z aktuální hlavičky zásobníku\n",
    "        aktuální hlavičku zásobníku přepiš jejím následujícím prvkem\n",
    "        nově nastavené hlavičce změň vlastnost je_hlavickou na True\n",
    "        zmenši počet o 1\"\"\"\n",
    "        if self.hlavicka is not None:\n",
    "            self.pocet_hodnot -= 1\n",
    "            hodnota = self.hlavicka.hodnota\n",
    "            self.hlavicka = self.hlavicka.odkaz_na_souseda\n",
    "            self.hlavicka.je_hlavickou = True\n",
    "        return hodnota\n",
    "\n",
    "    def __repr__(self) -> str:\n",
    "        text = \"\" #výsledný text\n",
    "        uzel = self.hlavicka\n",
    "\n",
    "        # procházet přes zbylé hodnoty zásobníku\n",
    "        # vezmeme následující prvek a uložíme do uzlu\n",
    "        # jeho hodnotu přidáme do proměnné text\n",
    "        while uzel is not None:\n",
    "            text += str(uzel.hodnota) + \" \"\n",
    "            uzel = uzel.odkaz_na_souseda\n",
    "        return text\n",
    "    \n",
    "    def __iter__(self):\n",
    "        uzel = self.hlavicka\n",
    "        while uzel is not None:\n",
    "            yield uzel.hodnota\n",
    "            uzel = uzel.odkaz_na_souseda\n",
    "\n",
    "    def __next__(self):\n",
    "        return next(self.__iter__())\n",
    "    \n",
    "    # zeptat se na yield příští týden"
   ]
  },
  {
   "cell_type": "code",
   "execution_count": 16,
   "metadata": {},
   "outputs": [
    {
     "name": "stdout",
     "output_type": "stream",
     "text": [
      "15 10 5 \n",
      "10 5 \n",
      "10\n",
      "5\n"
     ]
    }
   ],
   "source": [
    "zasobnik1 = Zasobnik()\n",
    "zasobnik1.nabij(5)\n",
    "zasobnik1.nabij(10)\n",
    "zasobnik1.nabij(15)\n",
    "\n",
    "print(zasobnik1)\n",
    "\n",
    "zasobnik1.vybij()\n",
    "print(zasobnik1)\n",
    "\n",
    "for naboj in zasobnik1:\n",
    "    print(naboj)"
   ]
  },
  {
   "cell_type": "markdown",
   "metadata": {},
   "source": [
    "### Hanojské věže\n",
    "\n",
    "- vlastnosti:\n",
    "    - parametr: počet kotoučů\n",
    "    - tři zásobníky: levý, pravý, prostřední\n",
    "    - během inicializace bude levý zásobník naplněn hodnotami 1-počet koutoučů a nejmenší hodnota je navrchu\n",
    "\n",
    "- metody:\n",
    "    - presun_kotouc_z_na(zasobnik1, zasobnik2) -> parametry budou text (např. \"levý\", \"pravý\"), nutné ošetřit prázdný zásobník (vyhodit vyjímku)\n",
    "        - kontrola pravidel -> vždy je možno přesunout menší kotouč na menší\n",
    "    - vizualizuj_veze (vypíše tři zásobníky pod sebe pro kontrolu)\n",
    "    - spust_hlavolam -> cyklus interakci s uživatelem - dokud není vyřešen hlavolam (dokud pravý zádobník neobsahuje všechny kotouče)"
   ]
  },
  {
   "cell_type": "code",
   "execution_count": 66,
   "metadata": {},
   "outputs": [],
   "source": [
    "class Hanosjke_veze:\n",
    "    def __init__(self, pocet_kotoucu):\n",
    "        self.pocet_kotoucu = pocet_kotoucu\n",
    "        self.leva_vez = Zasobnik()\n",
    "        for i in range(pocet_kotoucu, 0, -1):\n",
    "            self.leva_vez.nabij(i)\n",
    "        self.prosted_vez = Zasobnik()\n",
    "        self.prava_vez = Zasobnik()\n",
    "\n",
    "    def presun_kotouc(self, zasobnik1, zasobnik2):\n",
    "        if zasobnik2.hlavicka is None or zasobnik1.hlavicka.hodnota < zasobnik2.hlavicka.hodnota:\n",
    "            zasobnik2.nabij(zasobnik1.vybij())\n",
    "            print(\"Přesunuto\")\n",
    "        else:\n",
    "            print(\"Nelze přesunout\")\n",
    "    \n",
    "    def vizualizuj_veze(self):\n",
    "        return f\"{self.leva_vez} - {self.prosted_vez} - {self.prava_vez}\"\n",
    "\n",
    "    def spust_hlavolam(self):\n",
    "        ...\n"
   ]
  },
  {
   "cell_type": "code",
   "execution_count": 67,
   "metadata": {},
   "outputs": [
    {
     "name": "stdout",
     "output_type": "stream",
     "text": [
      "1 2 3 4 5 6 7 8 \n",
      "Přesunuto\n",
      "Přesunuto\n",
      "Nelze přesunout\n"
     ]
    },
    {
     "data": {
      "text/plain": [
       "'3 4 5 6 7 8  - 2  - 1 '"
      ]
     },
     "execution_count": 67,
     "metadata": {},
     "output_type": "execute_result"
    }
   ],
   "source": [
    "veze = Hanosjke_veze(8)\n",
    "print(veze.leva_vez)\n",
    "\n",
    "veze.presun_kotouc(veze.leva_vez, veze.prava_vez)\n",
    "veze.presun_kotouc(veze.leva_vez, veze.prosted_vez)\n",
    "veze.presun_kotouc(veze.leva_vez, veze.prosted_vez)\n",
    "veze.vizualizuj_veze()"
   ]
  }
 ],
 "metadata": {
  "kernelspec": {
   "display_name": "Python 3",
   "language": "python",
   "name": "python3"
  },
  "language_info": {
   "codemirror_mode": {
    "name": "ipython",
    "version": 3
   },
   "file_extension": ".py",
   "mimetype": "text/x-python",
   "name": "python",
   "nbconvert_exporter": "python",
   "pygments_lexer": "ipython3",
   "version": "3.10.11"
  }
 },
 "nbformat": 4,
 "nbformat_minor": 2
}
