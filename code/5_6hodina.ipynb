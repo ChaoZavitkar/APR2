{
 "cells": [
  {
   "cell_type": "code",
   "execution_count": 9,
   "metadata": {},
   "outputs": [
    {
     "name": "stdout",
     "output_type": "stream",
     "text": [
      "5\n",
      "6\n",
      "7\n"
     ]
    }
   ],
   "source": [
    "# return vs yield\n",
    "\n",
    "def zbytecna_fce(x):\n",
    "    return x + 1, x + 2, x + 3\n",
    "\n",
    "zbytecna_fce(1)\n",
    "\n",
    "def zbytecna_fce_2(x):\n",
    "    yield x + 1\n",
    "    yield x + 2\n",
    "    yield x + 3\n",
    "\n",
    "for hodnota in zbytecna_fce_2(4):\n",
    "    print(hodnota)"
   ]
  },
  {
   "cell_type": "code",
   "execution_count": 2,
   "metadata": {},
   "outputs": [
    {
     "name": "stdout",
     "output_type": "stream",
     "text": [
      "1\n",
      "2\n",
      "3\n",
      "4\n",
      "5\n",
      "6\n",
      "7\n",
      "8\n",
      "9\n"
     ]
    }
   ],
   "source": [
    "def rozsah(od, do, krok):\n",
    "    while od < do:\n",
    "        yield od\n",
    "        od += krok\n",
    "\n",
    "for hodnota in rozsah(1, 10, 1):\n",
    "    print(hodnota)"
   ]
  },
  {
   "cell_type": "code",
   "execution_count": 24,
   "metadata": {},
   "outputs": [
    {
     "name": "stdout",
     "output_type": "stream",
     "text": [
      "65539.0\n"
     ]
    }
   ],
   "source": [
    "def generate_random_number(x, a, m):\n",
    "    c = 0\n",
    "    x = (a * x + c) % m\n",
    "    return x\n",
    "\n",
    "random = generate_random_number(65539, 1, 2e31)\n",
    "print(random)"
   ]
  },
  {
   "cell_type": "code",
   "execution_count": 3,
   "metadata": {},
   "outputs": [
    {
     "name": "stdout",
     "output_type": "stream",
     "text": [
      "[1] [3]\n",
      "[7] [9]\n",
      "[5] [7, 9]\n",
      "[1, 3] [5, 7, 9]\n",
      "[2] [4]\n",
      "[8] [0]\n",
      "[6] [0, 8]\n",
      "[2, 4] [0, 6, 8]\n",
      "[1, 3, 5, 7, 9] [0, 2, 4, 6, 8]\n",
      "[0, 1, 2, 3, 4, 5, 6, 7, 8, 9]\n"
     ]
    }
   ],
   "source": [
    "# merge sort\n",
    "\n",
    "def merge_sort(sequence):\n",
    "    if len(sequence) <= 1:\n",
    "        return sequence\n",
    "    middle = len(sequence) // 2\n",
    "    left = merge_sort(sequence[:middle])\n",
    "    right = merge_sort(sequence[middle:])\n",
    "    print(left, right)\n",
    "    return merge(left, right)\n",
    "\n",
    "def merge(left, right):\n",
    "    result = []\n",
    "    i = j = 0\n",
    "    while i < len(left) and j < len(right):\n",
    "        if left[i] < right[j]:\n",
    "            result.append(left[i])\n",
    "            i += 1\n",
    "        else:\n",
    "            result.append(right[j])\n",
    "            j += 1\n",
    "    result.extend(left[i:])\n",
    "    result.extend(right[j:])\n",
    "    return result\n",
    "\n",
    "sequence = [1, 3, 5, 7, 9, 2, 4, 6, 8, 0]\n",
    "print(merge_sort(sequence))"
   ]
  },
  {
   "cell_type": "code",
   "execution_count": 1,
   "metadata": {},
   "outputs": [
    {
     "name": "stdout",
     "output_type": "stream",
     "text": [
      "[0, 1, 2, 3, 4, 5, 6, 7, 8, 9]\n"
     ]
    }
   ],
   "source": [
    "# Quick sort\n",
    "\n",
    "def quick_sort(sequence):\n",
    "    if len(sequence) <= 1:\n",
    "        return sequence\n",
    "    pivot = sequence[len(sequence) // 2]\n",
    "    left = [x for x in sequence if x < pivot]\n",
    "    middle = [x for x in sequence if x == pivot]\n",
    "    right = [x for x in sequence if x > pivot]\n",
    "    return quick_sort(left) + middle + quick_sort(right)\n",
    "\n",
    "def quick_sort_pivot_last(sequence):\n",
    "    if len(sequence) <= 1:\n",
    "        return sequence\n",
    "    pivot = sequence[-1]\n",
    "    left = [x for x in sequence if x < pivot]\n",
    "    middle = [x for x in sequence if x == pivot]\n",
    "    right = [x for x in sequence if x > pivot]\n",
    "    return quick_sort_pivot_last(left) + middle + quick_sort_pivot_last(right)\n",
    "\n",
    "sequence = [1, 3, 5, 7, 9, 2, 4, 6, 8, 0]\n",
    "print(quick_sort_pivot_last(sequence))"
   ]
  },
  {
   "cell_type": "code",
   "execution_count": 8,
   "metadata": {},
   "outputs": [
    {
     "name": "stdout",
     "output_type": "stream",
     "text": [
      "[0, 1, 2, 3, 4, 5, 6, 7, 8, 9]\n"
     ]
    }
   ],
   "source": [
    "def quicker_sort(sequence, low=0, high=None):\n",
    "    if high is None:\n",
    "        high = len(sequence) - 1\n",
    "    if low < high:\n",
    "        pivot = partition(sequence, low, high)\n",
    "        quicker_sort(sequence, low, pivot - 1)\n",
    "        quicker_sort(sequence, pivot + 1, high)\n",
    "    return sequence\n",
    "\n",
    "def partition(sequence, low, high):\n",
    "    pivot = sequence[high]\n",
    "    i = low\n",
    "    for j in range(low, high):\n",
    "        if sequence[j] < pivot:\n",
    "            sequence[i], sequence[j] = sequence[j], sequence[i]\n",
    "            i += 1\n",
    "    sequence[i], sequence[high] = sequence[high], sequence[i]\n",
    "    return i\n",
    "\n",
    "sequence = [1, 3, 5, 7, 9, 2, 4, 6, 8, 0]\n",
    "\n",
    "print(quicker_sort(sequence))"
   ]
  },
  {
   "cell_type": "code",
   "execution_count": 11,
   "metadata": {},
   "outputs": [
    {
     "name": "stdout",
     "output_type": "stream",
     "text": [
      "[[], [], [], [], [], [], [], [], [], [1]]\n",
      "[[], [], [], [], [], [], [], [], [], [1, 3]]\n",
      "[[], [], [], [], [], [], [], [], [], [1, 3, 5]]\n",
      "[[], [], [], [], [], [], [], [], [], [1, 3, 5, 7]]\n",
      "[[], [], [], [], [], [], [], [], [], [1, 3, 5, 7, 9]]\n",
      "[[], [], [], [], [], [], [], [], [], [1, 3, 5, 7, 9, 2]]\n",
      "[[], [], [], [], [], [], [], [], [], [1, 3, 5, 7, 9, 2, 4]]\n",
      "[[], [], [], [], [], [], [], [], [], [1, 3, 5, 7, 9, 2, 4, 6]]\n",
      "[[], [], [], [], [], [], [], [], [], [1, 3, 5, 7, 9, 2, 4, 6, 8]]\n",
      "[[0], [], [], [], [], [], [], [], [], [1, 3, 5, 7, 9, 2, 4, 6, 8]]\n",
      "[0, 1, 3, 5, 7, 9, 2, 4, 6, 8]\n"
     ]
    }
   ],
   "source": [
    "# Bucketsort\n",
    "\n",
    "def bucketsort(sequence):\n",
    "    buckets = [[] for _ in range(len(sequence))]\n",
    "    for value in sequence:\n",
    "        index_b = min(int(value * len(sequence)), len(sequence) - 1)\n",
    "        buckets[index_b].append(value)\n",
    "        print(buckets)\n",
    "    return [value for bucket in buckets for value in bucket]\n",
    "\n",
    "sequence = [1, 3, 5, 7, 9, 2, 4, 6, 8, 0]\n",
    "\n",
    "print(bucketsort(sequence))"
   ]
  },
  {
   "cell_type": "code",
   "execution_count": 1,
   "metadata": {},
   "outputs": [
    {
     "name": "stdout",
     "output_type": "stream",
     "text": [
      "[0, 1, 2, 3, 4, 5, 6, 7, 8, 9]\n"
     ]
    }
   ],
   "source": [
    "# heapsort\n",
    "\n",
    "def heapsort(sequence):\n",
    "    sequence = [x for x in sequence]\n",
    "    for i in range(len(sequence) // 2, -1, -1):\n",
    "        sequence = heapify(sequence, i, len(sequence))\n",
    "    for i in range(len(sequence) - 1, 0, -1):\n",
    "        sequence[0], sequence[i] = sequence[i], sequence[0]\n",
    "        sequence = heapify(sequence, 0, i)\n",
    "    return sequence\n",
    "\n",
    "def heapify(sequence, i, heap_size):\n",
    "    largest = i\n",
    "    left = 2 * i + 1\n",
    "    right = 2 * i + 2\n",
    "    if left < heap_size and sequence[left] > sequence[largest]:\n",
    "        largest = left\n",
    "    if right < heap_size and sequence[right] > sequence[largest]:\n",
    "        largest = right\n",
    "    if largest != i:\n",
    "        sequence[i], sequence[largest] = sequence[largest], sequence[i]\n",
    "        sequence = heapify(sequence, largest, heap_size)\n",
    "    return sequence\n",
    "\n",
    "sequence = [1, 3, 5, 7, 9, 2, 4, 6, 8, 0]\n",
    "\n",
    "print(heapsort(sequence))"
   ]
  }
 ],
 "metadata": {
  "kernelspec": {
   "display_name": "Python 3",
   "language": "python",
   "name": "python3"
  },
  "language_info": {
   "codemirror_mode": {
    "name": "ipython",
    "version": 3
   },
   "file_extension": ".py",
   "mimetype": "text/x-python",
   "name": "python",
   "nbconvert_exporter": "python",
   "pygments_lexer": "ipython3",
   "version": "3.10.11"
  }
 },
 "nbformat": 4,
 "nbformat_minor": 2
}
