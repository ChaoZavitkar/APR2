{
 "cells": [
  {
   "cell_type": "code",
   "execution_count": null,
   "metadata": {},
   "outputs": [],
   "source": [
    "# Lineární vyhledávání\n",
    "seznam = [5,6,7,1,2,5,3,1,2,5,9]\n",
    "\n",
    "# najděte index prvního výskytu hledaného čísla"
   ]
  }
 ],
 "metadata": {
  "language_info": {
   "name": "python"
  }
 },
 "nbformat": 4,
 "nbformat_minor": 2
}
